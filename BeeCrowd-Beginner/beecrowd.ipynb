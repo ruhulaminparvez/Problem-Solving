{
  "nbformat": 4,
  "nbformat_minor": 0,
  "metadata": {
    "colab": {
      "name": "beecrowd.ipynb",
      "provenance": []
    },
    "kernelspec": {
      "name": "python3",
      "display_name": "Python 3"
    },
    "language_info": {
      "name": "python"
    }
  },
  "cells": [
    {
      "cell_type": "markdown",
      "source": [
        "**BEE CROWD BEGINNER PROBLEM SOLVINGS**"
      ],
      "metadata": {
        "id": "MQ5z5ihEcsIQ"
      }
    },
    {
      "cell_type": "code",
      "source": [
        "#Problem - 1041 (Coordinates)\n",
        "X,Y=list(map(float,input().split()))\n",
        " \n",
        "if(X==0 and Y==0):\n",
        "    print(\"Origem\")\n",
        "elif(X==0):\n",
        "    print(\"Eixo Y\")\n",
        "elif(Y==0):\n",
        "    print(\"Eixo X\")\n",
        "elif(X>0 and Y>0):\n",
        "    print(\"Q1\")\n",
        "elif(X<0 and Y>0):\n",
        "    print(\"Q2\")\n",
        "elif(X<0 and Y<0):\n",
        "    print(\"Q3\")\n",
        "elif(X>0 and Y<0):\n",
        "    print(\"Q4\")"
      ],
      "metadata": {
        "colab": {
          "base_uri": "https://localhost:8080/"
        },
        "id": "aw2cSJhvvbOo",
        "outputId": "a055e070-c884-422e-ea77-a138c7bca7de"
      },
      "execution_count": null,
      "outputs": [
        {
          "output_type": "stream",
          "name": "stdout",
          "text": [
            "2.1\n",
            "3.1\n",
            "Q1\n"
          ]
        }
      ]
    },
    {
      "cell_type": "code",
      "source": [
        "#Problem - 1042 (Sort)\n",
        "X,Y,Z = map(int,input().split())\n",
        "\n",
        "list = [X,Y,Z]\n",
        "list.sort()\n",
        "\n",
        "print(f\"{list[0]}\\n{list[1]}\\n{list[2]}\")\n",
        "print(f\"\\n{X}\\n{Y}\\n{Z}\")"
      ],
      "metadata": {
        "colab": {
          "base_uri": "https://localhost:8080/"
        },
        "id": "GVYruYkk2m76",
        "outputId": "e4b71bf1-1403-4867-e059-a4cb338ebca9"
      },
      "execution_count": null,
      "outputs": [
        {
          "output_type": "stream",
          "name": "stdout",
          "text": [
            "7 21 -14\n",
            "-14\n",
            "7\n",
            "21\n",
            "\n",
            "7\n",
            "21\n",
            "-14\n"
          ]
        }
      ]
    },
    {
      "cell_type": "code",
      "source": [
        "#Problem - 1042 (Sort)\n",
        "entrada = input().split()\n",
        "\n",
        "a = int(entrada[0])\n",
        "b = int(entrada[1])\n",
        "c = int(entrada[2])\n",
        "\n",
        "lista = [a,b,c]\n",
        "\n",
        "lista.sort()\n",
        "\n",
        "print(lista[0])\n",
        "print(lista[1])\n",
        "print(lista[2])\n",
        "print(\"\")\n",
        "\n",
        "print(a)\n",
        "print(b)\n",
        "print(c)"
      ],
      "metadata": {
        "colab": {
          "base_uri": "https://localhost:8080/"
        },
        "id": "33XDAf0FVLV1",
        "outputId": "333bf409-beed-4ce2-f8cf-799d2b153da1"
      },
      "execution_count": null,
      "outputs": [
        {
          "output_type": "stream",
          "name": "stdout",
          "text": [
            "7 21 -14\n",
            "-14\n",
            "7\n",
            "21\n",
            "\n",
            "7\n",
            "21\n",
            "-14\n"
          ]
        }
      ]
    },
    {
      "cell_type": "code",
      "source": [
        "#Problem - 1043 (Triangle)\n",
        "a, b, c = list(map(float, input().split()))\n",
        "\n",
        "if (a < b + c and b < a + c and c < a + b):\n",
        "  print(\"Perimetro =\", a+b+c)\n",
        "else:\n",
        "  print(\"Area =\", (a+b)/2*c)"
      ],
      "metadata": {
        "colab": {
          "base_uri": "https://localhost:8080/"
        },
        "id": "sRVuuiioa0d6",
        "outputId": "50fc1ce1-6522-490d-d453-b3ea39673cbe"
      },
      "execution_count": null,
      "outputs": [
        {
          "output_type": "stream",
          "name": "stdout",
          "text": [
            "6.0 4.0 2.0\n",
            "Area = 10.0\n"
          ]
        }
      ]
    },
    {
      "cell_type": "code",
      "source": [
        "#Problem - 1044 (Multiples)\n",
        "A, B = list(map(int, input().split()))\n",
        "\n",
        "if (B % A == 0 or A % B == 0):\n",
        "  print(\"Sao Multiplos\")\n",
        "else:\n",
        "  print(\"Nao sao Multiplos\")"
      ],
      "metadata": {
        "colab": {
          "base_uri": "https://localhost:8080/"
        },
        "id": "sYmN8KgfGSXS",
        "outputId": "e6b38433-35e4-4b35-ea5a-8929fc489dc9"
      },
      "execution_count": null,
      "outputs": [
        {
          "output_type": "stream",
          "name": "stdout",
          "text": [
            "6 24\n",
            "Sao Multiplos\n"
          ]
        }
      ]
    },
    {
      "cell_type": "code",
      "source": [
        "#Problem - 1045 (Triangle Types)\n",
        "A, B, C = list(map(float, input().split()))\n",
        "\n",
        "if(A < B):\n",
        "    temp = A\n",
        "    A = B\n",
        "    B = temp\n",
        "if(B < C):\n",
        "    temp = B\n",
        "    B = C\n",
        "    C = temp\n",
        "if(A < B):\n",
        "    temp = A\n",
        "    A = B\n",
        "    B = temp\n",
        "    \n",
        "if(A>=(B+C)):\n",
        "    print(\"NAO FORMA TRIANGULO\")\n",
        "elif(A*A == (B*B+C*C)):\n",
        "     print(\"TRIANGULO RETANGULO\")\n",
        "elif(A*A > (B*B+ C*C)):\n",
        "    print(\"TRIANGULO OBTUSANGULO\")\n",
        "elif(A*A<(B*B + C*C)):\n",
        "    print(\"TRIANGULO ACUTANGULO\")\n",
        "if(A == B and B == C):\n",
        "        print(\"TRIANGULO EQUILATERO\")\n",
        "elif(A == B or B == C):\n",
        "        print(\"TRIANGULO ISOSCELES\")"
      ],
      "metadata": {
        "colab": {
          "base_uri": "https://localhost:8080/"
        },
        "id": "luLOABbo3YM9",
        "outputId": "52a8d324-8a3e-4fbb-d247-bb8b802d1cbb"
      },
      "execution_count": null,
      "outputs": [
        {
          "output_type": "stream",
          "name": "stdout",
          "text": [
            "7.0 5.0 7.0\n",
            "TRIANGULO ACUTANGULO\n",
            "TRIANGULO ISOSCELES\n"
          ]
        }
      ]
    },
    {
      "cell_type": "code",
      "source": [
        "#Problem - 1043 (Game Time)\n",
        "A, B = list(map(int, input().split()))\n",
        "\n",
        "if(A<B):\n",
        "    time=B-A\n",
        "else:\n",
        "    time=B+24-A\n",
        "\n",
        "# print(f\"O JOGO DUROU {time} HORA(S)\")\n",
        "print(\"O JOGO DUROU {} HORA(S)\" .format(time))"
      ],
      "metadata": {
        "colab": {
          "base_uri": "https://localhost:8080/"
        },
        "id": "HyvmBp-L9Vec",
        "outputId": "94d669f4-c5d4-486e-c664-39e3fbc6dd9c"
      },
      "execution_count": 13,
      "outputs": [
        {
          "output_type": "stream",
          "name": "stdout",
          "text": [
            "0 0\n",
            "O JOGO DUROU 24 HORA(S)\n"
          ]
        }
      ]
    }
  ]
}